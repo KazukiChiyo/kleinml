{
 "cells": [
  {
   "cell_type": "markdown",
   "metadata": {},
   "source": [
    "# Support Vector Machine\n",
    "Date: June 10, 2018 <br>\n",
    "Author: Kexuan Zou"
   ]
  },
  {
   "cell_type": "markdown",
   "metadata": {},
   "source": [
    "## Linear SVM"
   ]
  },
  {
   "cell_type": "code",
   "execution_count": 4,
   "metadata": {},
   "outputs": [
    {
     "name": "stdout",
     "output_type": "stream",
     "text": [
      "Weight [-0.075      -0.24166667 -0.22833333  0.2575      0.19083333]\n",
      "Confusion matrix\n",
      "[[11  0  0]\n",
      " [ 0 11  0]\n",
      " [ 0  8  0]]\n",
      "Accuracy 0.7333333333333333\n"
     ]
    }
   ],
   "source": [
    "import sys\n",
    "sys.path.append('../')\n",
    "from svm.LinearSVC import LinearSVC\n",
    "import util\n",
    "\n",
    "train_x, train_y, test_x, test_y = util.load_iris()\n",
    "model = LinearSVC(batch_size=1)\n",
    "model.fit(train_x, train_y)\n",
    "pred = model.predict(test_x)\n",
    "cm = util.confusion_matrix(test_y, pred)\n",
    "print(\"Weight\", model.w)\n",
    "print(\"Confusion matrix\")\n",
    "print(cm)\n",
    "print(\"Accuracy\", util.accuracy(cm))"
   ]
  },
  {
   "cell_type": "markdown",
   "metadata": {},
   "source": [
    "## Kernel SVM"
   ]
  },
  {
   "cell_type": "code",
   "execution_count": 2,
   "metadata": {},
   "outputs": [
    {
     "name": "stdout",
     "output_type": "stream",
     "text": [
      "Confusion matrix\n",
      "[[11  0]\n",
      " [ 1  8]]\n",
      "Accuracy 0.95\n"
     ]
    },
    {
     "data": {
      "text/plain": [
       "<matplotlib.collections.PathCollection at 0x7f755e07ec18>"
      ]
     },
     "execution_count": 2,
     "metadata": {},
     "output_type": "execute_result"
    },
    {
     "data": {
      "image/png": "[encoded data removed]",
      "text/plain": [
       "<Figure size 432x288 with 1 Axes>"
      ]
     },
     "metadata": {},
     "output_type": "display_data"
    }
   ],
   "source": [
    "import sys\n",
    "sys.path.append('../')\n",
    "import numpy as np\n",
    "from svm.SVC import SVC\n",
    "import matplotlib.pyplot as plt\n",
    "import util\n",
    "\n",
    "train_x, train_y, test_x, test_y = util.load_rbf()\n",
    "model = SVC(kernel=\"rbf\", gamma=5, decision_function_shape=\"ovo\")\n",
    "model.fit(train_x, train_y)\n",
    "pred = model.predict(test_x)\n",
    "cm = util.confusion_matrix(test_y, pred)\n",
    "print(\"Confusion matrix\")\n",
    "print(cm)\n",
    "print(\"Accuracy\", util.accuracy(cm))\n",
    "\n",
    "h = .02  # step size in the mesh\n",
    "# create a mesh to plot in\n",
    "x_min, x_max = train_x[:, 0].min() - 1, train_x[:, 0].max() + 1\n",
    "y_min, y_max = train_x[:, 1].min() - 1, train_x[:, 1].max() + 1\n",
    "xx, yy = np.meshgrid(np.arange(x_min, x_max, h),\n",
    "                     np.arange(y_min, y_max, h))\n",
    "\n",
    "# Plot the decision boundary. For that, we will assign a color to each\n",
    "# point in the mesh [x_min, m_max]x[y_min, y_max].\n",
    "Z = model.predict(np.c_[xx.ravel(), yy.ravel()])\n",
    "\n",
    "# Put the result into a color plot\n",
    "Z = Z.reshape(xx.shape)\n",
    "plt.contour(xx, yy, Z, cmap=plt.cm.Paired)\n",
    "plt.scatter(train_x[:, 0], train_x[:, 1], c=train_y, cmap=plt.cm.coolwarm)"
   ]
  },
  {
   "cell_type": "code",
   "execution_count": 8,
   "metadata": {},
   "outputs": [
    {
     "name": "stdout",
     "output_type": "stream",
     "text": [
      "Confusion matrix\n",
      "[[ 8  0  0]\n",
      " [ 0  8  2]\n",
      " [ 0  0 12]]\n",
      "Accuracy 0.9333333333333333\n",
      "Number of support vectors 43\n"
     ]
    }
   ],
   "source": [
    "import sys\n",
    "sys.path.append('../')\n",
    "from svm.SVC import SVC\n",
    "import util\n",
    "\n",
    "train_x, train_y, test_x, test_y = util.load_iris()\n",
    "model = SVC(kernel=\"rbf\", gamma=0.8)\n",
    "model.fit(train_x, train_y)\n",
    "pred = model.predict(test_x)\n",
    "cm = util.confusion_matrix(test_y, pred)\n",
    "print(\"Confusion matrix\")\n",
    "print(cm)\n",
    "print(\"Accuracy\", util.accuracy(cm))\n",
    "print(\"Number of support vectors\", model.sv_x.shape[0])"
   ]
  }
 ],
 "metadata": {
  "kernelspec": {
   "display_name": "Python 3",
   "language": "python",
   "name": "python3"
  },
  "language_info": {
   "codemirror_mode": {
    "name": "ipython",
    "version": 3
   },
   "file_extension": ".py",
   "mimetype": "text/x-python",
   "name": "python",
   "nbconvert_exporter": "python",
   "pygments_lexer": "ipython3",
   "version": "3.6.5"
  }
 },
 "nbformat": 4,
 "nbformat_minor": 2
}
