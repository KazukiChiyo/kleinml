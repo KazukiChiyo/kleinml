{
 "cells": [
  {
   "cell_type": "markdown",
   "metadata": {},
   "source": [
    "# Support Vector Machine\n",
    "[kleinml.svm](https://github.com/KazukiChiyo/kleinml/tree/master/svm)"
   ]
  },
  {
   "cell_type": "markdown",
   "metadata": {},
   "source": [
    "## Linear SVM\n",
    "Linear Support Vector Classification. Similar to `svm.SVC(kernel=\"linear\")` but implemented with stochastic gradient descent.\n",
    "```\n",
    "svm.LinearSVC(C=1.0, shuffle=True, max_iter=1000, tol=0.0001, batch_size=16, learning_rate=\"optimal\", eta0=0.01)\n",
    "```"
   ]
  },
  {
   "cell_type": "markdown",
   "metadata": {},
   "source": [
    "### Parameters\n",
    "```\n",
    "C: float, optional\n",
    "    Penalty parameter C of the error term.\n",
    "shuffle: boolean\n",
    "    Whether or not the training data should be shuffled after each epoch.\n",
    "max_iter: int, optional\n",
    "    Maximum number of iterations for gradient descent.\n",
    "tol: float\n",
    "    Precision of the solution.\n",
    "batch_size: int\n",
    "    Size of the batch at each iteration for mini-batch SGD.\n",
    "learning_rate: string, optional\n",
    "    The learning rate schedule:\n",
    "    \"constant\": eta = eta0\n",
    "    \"optimal\": eta = C/t\n",
    "eta0: double, optional\n",
    "    The initial learning rate.\n",
    "```"
   ]
  },
  {
   "cell_type": "markdown",
   "metadata": {},
   "source": [
    "### Methods\n",
    "`fit(X, y)`: Fit the model according to the given training data.<br>\n",
    "`predict(X)`: Predict class labels for samples in X.<br>"
   ]
  },
  {
   "cell_type": "markdown",
   "metadata": {},
   "source": [
    "### Example"
   ]
  },
  {
   "cell_type": "code",
   "execution_count": 26,
   "metadata": {},
   "outputs": [
    {
     "name": "stdout",
     "output_type": "stream",
     "text": [
      "Confusion matrix\n",
      "[[ 4  0  0]\n",
      " [ 1 17  0]\n",
      " [ 0  5  3]]\n",
      "Accuracy 0.8\n"
     ]
    },
    {
     "data": {
      "image/png": "[encoded data removed]",
      "text/plain": [
       "<Figure size 432x288 with 1 Axes>"
      ]
     },
     "metadata": {},
     "output_type": "display_data"
    }
   ],
   "source": [
    "from kleinml.svm import LinearSVC\n",
    "from kleinml.decomposition import PCA\n",
    "import matplotlib.pyplot as plt\n",
    "from mlxtend.plotting import plot_decision_regions\n",
    "from kleinml.utils import load_data\n",
    "\n",
    "train_x, train_y, test_x, test_y = load_data.load_iris()\n",
    "pca = PCA(n_components=2)\n",
    "pca.fit(train_x)\n",
    "train_x = pca.transform(train_x)\n",
    "test_x = pca.transform(test_x)\n",
    "model = LinearSVC(batch_size=1, C=0.1)\n",
    "model.fit(train_x, train_y)\n",
    "pred = model.predict(test_x)\n",
    "cm = load_data.confusion_matrix(test_y, pred)\n",
    "print(\"Confusion matrix\")\n",
    "print(cm)\n",
    "print(\"Accuracy\", load_data.accuracy(cm))\n",
    "plot_decision_regions(train_x, train_y, clf=model, legend=2)\n",
    "plt.title('Linear SVM on iris dataset')\n",
    "plt.show()"
   ]
  },
  {
   "cell_type": "markdown",
   "metadata": {},
   "source": [
    "## Kernel SVM\n",
    "C-Support vector classification using Platt's SMO algorithm.\n",
    "```\n",
    "svm.SVC(C=1.0, kernel=\"rbf\", degree=3, gamma=\"auto\", coef0=0.0, tol=0.01, max_iter=1000, decision_function_shape=\"ovr\")\n",
    "```"
   ]
  },
  {
   "cell_type": "markdown",
   "metadata": {},
   "source": [
    "### Parameters\n",
    "```\n",
    "C: float, optional\n",
    "    Penalty parameter C of the error term.\n",
    "kernel: string, optional\n",
    "    Specifies the kernel type to be used in the algorithm:\n",
    "    \"linear\": linear kernel <x, x'>\n",
    "    \"rbf\": rbf kernel exp(-gamma|x-x'|^2)\n",
    "    \"poly\": polynominal kernel (gamma<x, x'>+r)^d\n",
    "    \"sigmoid\": sigmoid kernel tanh((gamma<x, x'>+r)^d)\n",
    "degree: int, optional\n",
    "    Degree of the polynomial kernel (\"poly\").\n",
    "gamma: int, optional\n",
    "    Kernel coefficient for \"rbf\", \"poly\" and \"sigmoid\".\n",
    "coef0: float, optional\n",
    "    Independent term in \"poly\" and \"sigmoid\".\n",
    "tol: float\n",
    "    Precision of the solution.\n",
    "max_iter: int, optional\n",
    "    Hard limit on iterations within solver.\n",
    "decision_function_shape: string\n",
    "    Whether to return a one-vs-rest (\"ovr\") decision function or one-vs-one (\"ovo\").\n",
    "```"
   ]
  },
  {
   "cell_type": "markdown",
   "metadata": {},
   "source": [
    "### Attributes\n",
    "```\n",
    "idx: array\n",
    "    Indices of support vectors.\n",
    "sv_x: array\n",
    "    Support vectors.\n",
    "sv_y: array\n",
    "    Labels of support vectors.\n",
    "```"
   ]
  },
  {
   "cell_type": "markdown",
   "metadata": {},
   "source": [
    "### Methods\n",
    "`fit(X, y)`: Fit the model according to the given training data.<br>\n",
    "`predict(X)`: Predict class labels for samples in X.<br>"
   ]
  },
  {
   "cell_type": "markdown",
   "metadata": {},
   "source": [
    "### Example"
   ]
  },
  {
   "cell_type": "code",
   "execution_count": 3,
   "metadata": {},
   "outputs": [
    {
     "name": "stdout",
     "output_type": "stream",
     "text": [
      "Confusion matrix\n",
      "[[8 0]\n",
      " [4 8]]\n",
      "Accuracy 0.8\n",
      "Number of support vectors 33\n"
     ]
    },
    {
     "data": {
      "image/png": "[encoded data removed]",
      "text/plain": [
       "<Figure size 432x288 with 1 Axes>"
      ]
     },
     "metadata": {},
     "output_type": "display_data"
    }
   ],
   "source": [
    "import numpy as np\n",
    "from kleinml.svm import SVC\n",
    "import matplotlib.pyplot as plt\n",
    "from mlxtend.plotting import plot_decision_regions\n",
    "from kleinml.utils import load_data\n",
    "\n",
    "train_x, train_y, test_x, test_y = load_data.load_rbf()\n",
    "model = SVC(kernel=\"rbf\", gamma=5, decision_function_shape=\"ovo\")\n",
    "model.fit(train_x, train_y)\n",
    "pred = model.predict(test_x)\n",
    "cm = load_data.confusion_matrix(test_y, pred)\n",
    "print(\"Confusion matrix\")\n",
    "print(cm)\n",
    "print(\"Accuracy\", load_data.accuracy(cm))\n",
    "print(\"Number of support vectors\", model.sv_x.shape[0])\n",
    "plot_decision_regions(train_x, train_y, clf=model, legend=2)\n",
    "plt.title('RBF kernel SVM')\n",
    "plt.show()"
   ]
  },
  {
   "cell_type": "code",
   "execution_count": 109,
   "metadata": {},
   "outputs": [
    {
     "name": "stdout",
     "output_type": "stream",
     "text": [
      "Confusion matrix\n",
      "[[12  0  0]\n",
      " [ 1  7  0]\n",
      " [ 0  0 10]]\n",
      "Accuracy 0.9666666666666667\n",
      "Number of support vectors 49\n"
     ]
    },
    {
     "data": {
      "image/png": "[encoded data removed]",
      "text/plain": [
       "<Figure size 432x288 with 1 Axes>"
      ]
     },
     "metadata": {},
     "output_type": "display_data"
    }
   ],
   "source": [
    "from kleinml.svm import SVC\n",
    "from kleinml.decomposition import PCA\n",
    "import matplotlib.pyplot as plt\n",
    "from mlxtend.plotting import plot_decision_regions\n",
    "from kleinml.utils import load_data\n",
    "\n",
    "train_x, train_y, test_x, test_y = load_data.load_iris()\n",
    "pca = PCA(n_components=2)\n",
    "pca.fit(train_x)\n",
    "train_x = pca.transform(train_x)\n",
    "test_x = pca.transform(test_x)\n",
    "model = SVC(kernel=\"rbf\", gamma=0.8)\n",
    "model.fit(train_x, train_y)\n",
    "pred = model.predict(test_x)\n",
    "cm = load_data.confusion_matrix(test_y, pred)\n",
    "print(\"Confusion matrix\")\n",
    "print(cm)\n",
    "print(\"Accuracy\", load_data.accuracy(cm))\n",
    "print(\"Number of support vectors\", model.sv_x.shape[0])\n",
    "plot_decision_regions(train_x, train_y, clf=model, legend=2)\n",
    "plt.title('Kernel SVM on iris dataset')\n",
    "plt.show()"
   ]
  }
 ],
 "metadata": {
  "kernelspec": {
   "display_name": "Python 3",
   "language": "python",
   "name": "python3"
  },
  "language_info": {
   "codemirror_mode": {
    "name": "ipython",
    "version": 3
   },
   "file_extension": ".py",
   "mimetype": "text/x-python",
   "name": "python",
   "nbconvert_exporter": "python",
   "pygments_lexer": "ipython3",
   "version": "3.6.5"
  }
 },
 "nbformat": 4,
 "nbformat_minor": 2
}
