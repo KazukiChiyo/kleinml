{
 "cells": [
  {
   "cell_type": "markdown",
   "metadata": {},
   "source": [
    "# Linear Model\n",
    "[kleinml.linear_model](https://github.com/KazukiChiyo/kleinml/tree/master/linear_model)"
   ]
  },
  {
   "cell_type": "markdown",
   "metadata": {},
   "source": [
    "## Linear regression\n",
    "Linear model with least squares implementation.\n",
    "```\n",
    "linear_model.LinearRegression()\n",
    "```"
   ]
  },
  {
   "cell_type": "markdown",
   "metadata": {},
   "source": [
    "### Attributes\n",
    "```\n",
    "w: array\n",
    "    Estimated weight of the linear model.\n",
    "```"
   ]
  },
  {
   "cell_type": "markdown",
   "metadata": {},
   "source": [
    "### Methods\n",
    "`fit(X, y)`: Fit linear model.<br>\n",
    "`predict(X)`: Predict a linear model.<br>\n",
    "`score(X)`: Returns the coefficient of determination R^2 of the prediction."
   ]
  },
  {
   "cell_type": "markdown",
   "metadata": {},
   "source": [
    "### Example"
   ]
  },
  {
   "cell_type": "code",
   "execution_count": 7,
   "metadata": {},
   "outputs": [
    {
     "name": "stdout",
     "output_type": "stream",
     "text": [
      "Weight [33.44803557 10.76911173]\n",
      "Score 0.8137650099010998\n"
     ]
    },
    {
     "data": {
      "image/png": "[encoded data removed]",
      "text/plain": [
       "<Figure size 432x288 with 1 Axes>"
      ]
     },
     "metadata": {},
     "output_type": "display_data"
    }
   ],
   "source": [
    "from kleinml.linear_model import LinearRegression\n",
    "from kleinml.utils import load_data\n",
    "import matplotlib.pyplot as plt\n",
    "\n",
    "train_x, train_y, test_x, test_y = load_data.load_eruption()\n",
    "model = LinearRegression()\n",
    "model.fit(train_x, train_y)\n",
    "pred_y = model.predict(test_x)\n",
    "score = model.score(test_x, test_y)\n",
    "print(\"Weight\", model.w)\n",
    "print(\"Score\", score)\n",
    "plt.scatter(test_x, test_y,  color='blue')\n",
    "plt.plot(test_x, pred_y, color='red', linewidth=2)\n",
    "plt.xticks(())\n",
    "plt.yticks(())\n",
    "plt.show()"
   ]
  },
  {
   "cell_type": "markdown",
   "metadata": {},
   "source": [
    "## Ridge regression\n",
    "Linear least squares with l2 regularization with mini-batch SGD.\n",
    "```\n",
    "linear_model.Ridge(alpha=0.1, shuffle=True, max_iter=1000, tol=0.0001, batch_size=16, learning_rate=\"constant\", eta0=0.001, power_t=0.5)\n",
    "```"
   ]
  },
  {
   "cell_type": "markdown",
   "metadata": {},
   "source": [
    "### Parameters\n",
    "```\n",
    "alpha: float\n",
    "    Strength of regularizaton and feature shrinkage.\n",
    "shuffle: boolean\n",
    "    Whether or not the training data should be shuffled after each epoch.\n",
    "max_iter: int, optional\n",
    "    Maximum number of iterations for gradient descent.\n",
    "tol: float\n",
    "    Precision of the solution.\n",
    "batch_size: int\n",
    "    Size of the batch at each iteration for mini-batch SGD.\n",
    "learning_rate: string, optional\n",
    "    The learning rate schedule:\n",
    "    \"constant\": eta = eta0\n",
    "    \"invscaling\": eta = eta0 / pow(t, power_t)\n",
    "eta0: double, optional\n",
    "    The initial learning rate.\n",
    "power_t : double, optional\n",
    "    The exponent for inverse scaling learning rate.\n",
    "```"
   ]
  },
  {
   "cell_type": "markdown",
   "metadata": {},
   "source": [
    "### Attributes\n",
    "```\n",
    "w: array\n",
    "    Estimated weight of the linear model.\n",
    "```"
   ]
  },
  {
   "cell_type": "markdown",
   "metadata": {},
   "source": [
    "### Methods\n",
    "`fit(X, y)`: Fit linear model.<br>\n",
    "`predict(X)`: Predict a linear model.<br>\n",
    "`score(X)`: Returns the coefficient of determination $R^2$ of the prediction."
   ]
  },
  {
   "cell_type": "markdown",
   "metadata": {},
   "source": [
    "### Example"
   ]
  },
  {
   "cell_type": "code",
   "execution_count": 21,
   "metadata": {},
   "outputs": [
    {
     "name": "stdout",
     "output_type": "stream",
     "text": [
      "Weight [ 9.842172   17.35458298]\n",
      "Score 0.6897938169130211\n"
     ]
    },
    {
     "data": {
      "image/png": "[encoded data removed]",
      "text/plain": [
       "<Figure size 432x288 with 1 Axes>"
      ]
     },
     "metadata": {},
     "output_type": "display_data"
    }
   ],
   "source": [
    "from kleinml.linear_model import Ridge\n",
    "from kleinml.utils import load_data\n",
    "import matplotlib.pyplot as plt\n",
    "\n",
    "train_x, train_y, test_x, test_y = load_data.load_eruption()\n",
    "model = Ridge(alpha=0.2, batch_size=1, learning_rate=\"constant\", eta0=0.01)\n",
    "model.fit(train_x, train_y)\n",
    "pred_y = model.predict(test_x)\n",
    "score = model.score(test_x, test_y)\n",
    "print(\"Weight\", model.w)\n",
    "print(\"Score\", score)\n",
    "plt.scatter(test_x, test_y,  color='blue')\n",
    "plt.plot(test_x, pred_y, color='red', linewidth=2)\n",
    "plt.xticks(())\n",
    "plt.yticks(())\n",
    "plt.show()"
   ]
  },
  {
   "cell_type": "markdown",
   "metadata": {},
   "source": [
    "## Lasso regression\n",
    "Linear least squares with l1 regularization implementation (coordinate descent).\n",
    "```\n",
    "linear_model.Lasso(alpha=1.0, max_iter=1000)\n",
    "```"
   ]
  },
  {
   "cell_type": "markdown",
   "metadata": {},
   "source": [
    "### Parameters\n",
    "```\n",
    "alpha: float\n",
    "    Strength of regularizaton and feature shrinkage.\n",
    "max_iter: int, optional\n",
    "    Maximum number of iterations for gradient descent.\n",
    "```"
   ]
  },
  {
   "cell_type": "markdown",
   "metadata": {},
   "source": [
    "### Attributes\n",
    "```\n",
    "w: array\n",
    "    Estimated weight of the linear model.\n",
    "```"
   ]
  },
  {
   "cell_type": "markdown",
   "metadata": {},
   "source": [
    "### Methods\n",
    "`fit(X, y)`: Fit linear model.<br>\n",
    "`predict(X)`: Predict a linear model.<br>\n",
    "`score(X)`: Returns the coefficient of determination $R^2$ of the prediction."
   ]
  },
  {
   "cell_type": "markdown",
   "metadata": {},
   "source": [
    "### Example"
   ]
  },
  {
   "cell_type": "code",
   "execution_count": 24,
   "metadata": {},
   "outputs": [
    {
     "name": "stdout",
     "output_type": "stream",
     "text": [
      "Weight [34.24076351 10.49701859]\n",
      "Score 0.8220415623625513\n"
     ]
    },
    {
     "data": {
      "image/png": "[encoded data removed]",
      "text/plain": [
       "<Figure size 432x288 with 1 Axes>"
      ]
     },
     "metadata": {},
     "output_type": "display_data"
    }
   ],
   "source": [
    "from kleinml.linear_model import Lasso\n",
    "from kleinml.utils import load_data\n",
    "import matplotlib.pyplot as plt\n",
    "\n",
    "train_x, train_y, test_x, test_y = load_data.load_eruption()\n",
    "model = Lasso(alpha=0.2)\n",
    "model.fit(train_x, train_y)\n",
    "pred_y = model.predict(test_x)\n",
    "score = model.score(test_x, test_y)\n",
    "print(\"Weight\", model.w)\n",
    "print(\"Score\", score)\n",
    "plt.scatter(test_x, test_y,  color='blue')\n",
    "plt.plot(test_x, pred_y, color='red', linewidth=2)\n",
    "plt.xticks(())\n",
    "plt.yticks(())\n",
    "plt.show()"
   ]
  },
  {
   "cell_type": "markdown",
   "metadata": {},
   "source": [
    "## Logistic regression\n",
    "Logistic regression with stochastic gradient descent.\n",
    "```\n",
    "linear_model.LogisticRegression(tol=0.001, max_iter=1000, eta0=1e-3)\n",
    "```"
   ]
  },
  {
   "cell_type": "markdown",
   "metadata": {},
   "source": [
    "### Parameters\n",
    "```\n",
    "tol: float\n",
    "    Precision of the solution.\n",
    "max_iter: int, optional\n",
    "    Maximum number of iterations for gradient descent.\n",
    "eta0: double, optional\n",
    "    The initial learning rate.\n",
    "```"
   ]
  },
  {
   "cell_type": "markdown",
   "metadata": {},
   "source": [
    "### Methods\n",
    "`fit(X, y)`: Fit the model according to the given training data.<br>\n",
    "`predict(X)`: Predict class labels for samples in X.<br>"
   ]
  },
  {
   "cell_type": "markdown",
   "metadata": {},
   "source": [
    "### Example"
   ]
  },
  {
   "cell_type": "code",
   "execution_count": 27,
   "metadata": {},
   "outputs": [
    {
     "name": "stdout",
     "output_type": "stream",
     "text": [
      "Weight [0.34979339 5.01216308 1.69954767]\n",
      "Confusion matrix\n",
      "[[17 29]\n",
      " [ 7 36]]\n",
      "Accuracy 0.5955056179775281\n"
     ]
    },
    {
     "data": {
      "image/png": "[encoded data removed]",
      "text/plain": [
       "<Figure size 432x288 with 1 Axes>"
      ]
     },
     "metadata": {},
     "output_type": "display_data"
    }
   ],
   "source": [
    "from kleinml.linear_model import LogisticRegression\n",
    "from kleinml.decomposition import PCA\n",
    "from kleinml.utils import load_data\n",
    "import numpy as np\n",
    "import matplotlib.pyplot as plt\n",
    "from mlxtend.plotting import plot_decision_regions\n",
    "\n",
    "train_x, train_y, test_x, test_y = load_data.load_diabetes()\n",
    "pca = PCA(n_components=2)\n",
    "pca.fit(train_x)\n",
    "train_x = pca.transform(train_x)\n",
    "test_x = pca.transform(test_x)\n",
    "model = LogisticRegression()\n",
    "model.fit(train_x, train_y)\n",
    "pred = model.predict(test_x)\n",
    "cm = load_data.confusion_matrix(test_y, pred)\n",
    "print(\"Weight\", model.w)\n",
    "print(\"Confusion matrix\")\n",
    "print(cm)\n",
    "print(\"Accuracy\", load_data.accuracy(cm))\n",
    "plot_decision_regions(train_x, train_y, clf=model, legend=2)\n",
    "plt.title('Logistic regression on diabetes dataset')\n",
    "plt.show()"
   ]
  }
 ],
 "metadata": {
  "kernelspec": {
   "display_name": "Python 3",
   "language": "python",
   "name": "python3"
  },
  "language_info": {
   "codemirror_mode": {
    "name": "ipython",
    "version": 3
   },
   "file_extension": ".py",
   "mimetype": "text/x-python",
   "name": "python",
   "nbconvert_exporter": "python",
   "pygments_lexer": "ipython3",
   "version": "3.6.5"
  }
 },
 "nbformat": 4,
 "nbformat_minor": 2
}
