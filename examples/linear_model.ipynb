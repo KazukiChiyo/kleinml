{
 "cells": [
  {
   "cell_type": "markdown",
   "metadata": {},
   "source": [
    "# Linear Model\n",
    "Date: June 10, 2018 <br>\n",
    "Author: Kexuan Zou"
   ]
  },
  {
   "cell_type": "markdown",
   "metadata": {},
   "source": [
    "## Linear regression"
   ]
  },
  {
   "cell_type": "code",
   "execution_count": 2,
   "metadata": {},
   "outputs": [
    {
     "name": "stdout",
     "output_type": "stream",
     "text": [
      "Weight [33.4357871  10.76512296]\n",
      "Score 0.8394596392789804\n"
     ]
    },
    {
     "data": {
      "image/png": "[encoded data removed]",
      "text/plain": [
       "<Figure size 432x288 with 1 Axes>"
      ]
     },
     "metadata": {},
     "output_type": "display_data"
    }
   ],
   "source": [
    "import sys\n",
    "sys.path.append('../')\n",
    "from linear_model.LinearRegression import LinearRegression\n",
    "import util\n",
    "import matplotlib.pyplot as plt\n",
    "\n",
    "train_x, train_y, test_x, test_y = util.load_eruption()\n",
    "model = LinearRegression()\n",
    "model.fit(train_x, train_y)\n",
    "pred_y = model.predict(test_x)\n",
    "score = model.score(test_x, test_y)\n",
    "print(\"Weight\", model.w)\n",
    "print(\"Score\", score)\n",
    "plt.scatter(test_x, test_y,  color='blue')\n",
    "plt.plot(test_x, pred_y, color='red', linewidth=2)\n",
    "plt.xticks(())\n",
    "plt.yticks(())\n",
    "plt.show()"
   ]
  },
  {
   "cell_type": "markdown",
   "metadata": {},
   "source": [
    "## Ridge regression"
   ]
  },
  {
   "cell_type": "code",
   "execution_count": 18,
   "metadata": {},
   "outputs": [
    {
     "name": "stdout",
     "output_type": "stream",
     "text": [
      "Weight [10.60027183 17.30771394]\n",
      "Score 0.7060833083650275\n"
     ]
    },
    {
     "data": {
      "image/png": "[encoded data removed]",
      "text/plain": [
       "<Figure size 432x288 with 1 Axes>"
      ]
     },
     "metadata": {},
     "output_type": "display_data"
    }
   ],
   "source": [
    "import sys\n",
    "sys.path.append('../')\n",
    "from linear_model.Ridge import Ridge\n",
    "import util\n",
    "import matplotlib.pyplot as plt\n",
    "\n",
    "train_x, train_y, test_x, test_y = util.load_eruption()\n",
    "model = Ridge(alpha=0.2, batch_size=1, learning_rate=\"constant\", eta0=0.01)\n",
    "model.fit(train_x, train_y)\n",
    "pred_y = model.predict(test_x)\n",
    "score = model.score(test_x, test_y)\n",
    "print(\"Weight\", model.w)\n",
    "print(\"Score\", score)\n",
    "plt.scatter(test_x, test_y,  color='blue')\n",
    "plt.plot(test_x, pred_y, color='red', linewidth=2)\n",
    "plt.xticks(())\n",
    "plt.yticks(())\n",
    "plt.show()"
   ]
  },
  {
   "cell_type": "markdown",
   "metadata": {},
   "source": [
    "## Lasso regression"
   ]
  },
  {
   "cell_type": "code",
   "execution_count": 21,
   "metadata": {},
   "outputs": [
    {
     "name": "stdout",
     "output_type": "stream",
     "text": [
      "Weight [33.86285353 10.56737047]\n",
      "Score 0.8807241115134311\n"
     ]
    },
    {
     "data": {
      "image/png": "[encoded data removed]",
      "text/plain": [
       "<Figure size 432x288 with 1 Axes>"
      ]
     },
     "metadata": {},
     "output_type": "display_data"
    }
   ],
   "source": [
    "import sys\n",
    "sys.path.append('../')\n",
    "from linear_model.Lasso import Lasso\n",
    "import util\n",
    "import matplotlib.pyplot as plt\n",
    "\n",
    "train_x, train_y, test_x, test_y = util.load_eruption()\n",
    "model = Lasso(alpha=0.2)\n",
    "model.fit(train_x, train_y)\n",
    "pred_y = model.predict(test_x)\n",
    "score = model.score(test_x, test_y)\n",
    "print(\"Weight\", model.w)\n",
    "print(\"Score\", score)\n",
    "plt.scatter(test_x, test_y,  color='blue')\n",
    "plt.plot(test_x, pred_y, color='red', linewidth=2)\n",
    "plt.xticks(())\n",
    "plt.yticks(())\n",
    "plt.show()"
   ]
  },
  {
   "cell_type": "markdown",
   "metadata": {},
   "source": [
    "## Logistic regression"
   ]
  },
  {
   "cell_type": "code",
   "execution_count": 23,
   "metadata": {},
   "outputs": [
    {
     "name": "stdout",
     "output_type": "stream",
     "text": [
      "Weight [ 0.29502131  0.81102152 -0.28602486  2.95648379  2.05100472  0.81933962\n",
      "  0.65365706 -2.13832718  1.95880512  2.93879521  1.39769005]\n",
      "Confusion matrix\n",
      "[[23 18]\n",
      " [ 4 44]]\n",
      "Accuracy 0.7528089887640449\n"
     ]
    }
   ],
   "source": [
    "import sys\n",
    "sys.path.append('../')\n",
    "from linear_model.LogisticRegression import LogisticRegression\n",
    "import util\n",
    "import numpy as np\n",
    "import matplotlib.pyplot as plt\n",
    "\n",
    "train_x, train_y, test_x, test_y = util.load_diabetes()\n",
    "model = LogisticRegression()\n",
    "model.fit(train_x, train_y)\n",
    "pred = model.predict(test_x)\n",
    "cm = util.confusion_matrix(test_y, pred)\n",
    "print(\"Weight\", model.w)\n",
    "print(\"Confusion matrix\")\n",
    "print(cm)\n",
    "print(\"Accuracy\", util.accuracy(cm))"
   ]
  }
 ],
 "metadata": {
  "kernelspec": {
   "display_name": "Python 3",
   "language": "python",
   "name": "python3"
  },
  "language_info": {
   "codemirror_mode": {
    "name": "ipython",
    "version": 3
   },
   "file_extension": ".py",
   "mimetype": "text/x-python",
   "name": "python",
   "nbconvert_exporter": "python",
   "pygments_lexer": "ipython3",
   "version": "3.6.5"
  }
 },
 "nbformat": 4,
 "nbformat_minor": 2
}
