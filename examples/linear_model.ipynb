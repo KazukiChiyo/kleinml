{
 "cells": [
  {
   "cell_type": "markdown",
   "metadata": {},
   "source": [
    "# Linear Model\n",
    "Date: June 10, 2018 <br>\n",
    "Author: Kexuan Zou"
   ]
  },
  {
   "cell_type": "markdown",
   "metadata": {},
   "source": [
    "## Linear regression"
   ]
  },
  {
   "cell_type": "code",
   "execution_count": 3,
   "metadata": {},
   "outputs": [
    {
     "name": "stdout",
     "output_type": "stream",
     "text": [
      "('Weight', array([33.72721842, 10.66944089]))\n",
      "('Score', 0.8167558657102587)\n"
     ]
    },
    {
     "data": {
      "image/png": "[encoded data removed]",
      "text/plain": [
       "<Figure size 432x288 with 1 Axes>"
      ]
     },
     "metadata": {},
     "output_type": "display_data"
    }
   ],
   "source": [
    "import sys\n",
    "sys.path.append('../')\n",
    "from linear_model.LinearRegression import LinearRegression\n",
    "import util\n",
    "import matplotlib.pyplot as plt\n",
    "\n",
    "train_x, train_y, test_x, test_y = util.load_eruption()\n",
    "model = LinearRegression()\n",
    "model.fit(train_x, train_y)\n",
    "pred_y = model.predict(test_x)\n",
    "score = model.score(test_x, test_y)\n",
    "print(\"Weight\", model.w)\n",
    "print(\"Score\", score)\n",
    "plt.scatter(test_x, test_y,  color='blue')\n",
    "plt.plot(test_x, pred_y, color='red', linewidth=2)\n",
    "plt.xticks(())\n",
    "plt.yticks(())\n",
    "plt.show()"
   ]
  },
  {
   "cell_type": "markdown",
   "metadata": {},
   "source": [
    "## Ridge regression"
   ]
  },
  {
   "cell_type": "code",
   "execution_count": 19,
   "metadata": {},
   "outputs": [
    {
     "name": "stdout",
     "output_type": "stream",
     "text": [
      "('Weight', array([ 9.2160416 , 16.08654398]))\n",
      "('Score', 0.5252881675016716)\n"
     ]
    },
    {
     "data": {
      "image/png": "[encoded data removed]",
      "text/plain": [
       "<Figure size 432x288 with 1 Axes>"
      ]
     },
     "metadata": {},
     "output_type": "display_data"
    }
   ],
   "source": [
    "import sys\n",
    "sys.path.append('../')\n",
    "from linear_model.Ridge import Ridge\n",
    "import util\n",
    "import matplotlib.pyplot as plt\n",
    "\n",
    "train_x, train_y, test_x, test_y = util.load_eruption()\n",
    "model = Ridge(alpha=0.2, batch_size=1, learning_rate=\"constant\", eta0=0.01)\n",
    "model.fit(train_x, train_y)\n",
    "pred_y = model.predict(test_x)\n",
    "score = model.score(test_x, test_y)\n",
    "print(\"Weight\", model.w)\n",
    "print(\"Score\", score)\n",
    "plt.scatter(test_x, test_y,  color='blue')\n",
    "plt.plot(test_x, pred_y, color='red', linewidth=2)\n",
    "plt.xticks(())\n",
    "plt.yticks(())\n",
    "plt.show()"
   ]
  },
  {
   "cell_type": "markdown",
   "metadata": {},
   "source": [
    "## Lasso regression"
   ]
  },
  {
   "cell_type": "code",
   "execution_count": 2,
   "metadata": {},
   "outputs": [
    {
     "name": "stdout",
     "output_type": "stream",
     "text": [
      "('Weight', array([34.12759114, 10.53729724]))\n",
      "('Score', 0.8094763205120425)\n"
     ]
    },
    {
     "data": {
      "image/png": "[encoded data removed]",
      "text/plain": [
       "<Figure size 432x288 with 1 Axes>"
      ]
     },
     "metadata": {},
     "output_type": "display_data"
    }
   ],
   "source": [
    "import sys\n",
    "sys.path.append('../')\n",
    "from linear_model.Lasso import Lasso\n",
    "import util\n",
    "import matplotlib.pyplot as plt\n",
    "\n",
    "train_x, train_y, test_x, test_y = util.load_eruption()\n",
    "model = Lasso(alpha=0.2)\n",
    "model.fit(train_x, train_y)\n",
    "pred_y = model.predict(test_x)\n",
    "score = model.score(test_x, test_y)\n",
    "print(\"Weight\", model.w)\n",
    "print(\"Score\", score)\n",
    "plt.scatter(test_x, test_y,  color='blue')\n",
    "plt.plot(test_x, pred_y, color='red', linewidth=2)\n",
    "plt.xticks(())\n",
    "plt.yticks(())\n",
    "plt.show()"
   ]
  },
  {
   "cell_type": "markdown",
   "metadata": {},
   "source": [
    "## Logistic regression"
   ]
  },
  {
   "cell_type": "code",
   "execution_count": null,
   "metadata": {},
   "outputs": [],
   "source": [
    "import sys\n",
    "sys.path.append('../')\n",
    "from linear_model.Lasso import Lasso\n",
    "import util\n",
    "import matplotlib.pyplot as plt\n"
   ]
  }
 ],
 "metadata": {
  "kernelspec": {
   "display_name": "Python 2",
   "language": "python",
   "name": "python2"
  },
  "language_info": {
   "codemirror_mode": {
    "name": "ipython",
    "version": 2
   },
   "file_extension": ".py",
   "mimetype": "text/x-python",
   "name": "python",
   "nbconvert_exporter": "python",
   "pygments_lexer": "ipython2",
   "version": "2.7.12"
  }
 },
 "nbformat": 4,
 "nbformat_minor": 2
}
