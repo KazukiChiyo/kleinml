{
 "cells": [
  {
   "cell_type": "markdown",
   "metadata": {},
   "source": [
    "# Linear Model\n",
    "Date: June 10, 2018 <br>\n",
    "Author: Kexuan Zou"
   ]
  },
  {
   "cell_type": "code",
   "execution_count": 13,
   "metadata": {},
   "outputs": [
    {
     "name": "stdout",
     "output_type": "stream",
     "text": [
      "('Weight', array([33.48585733, 10.729198  ]))\n",
      "('Score', 0.7862558434620279)\n"
     ]
    }
   ],
   "source": [
    "import sys\n",
    "sys.path.append('../')\n",
    "from linear_model.LinearRegression import LinearRegression\n",
    "import util\n",
    "import matplotlib.pyplot as plt\n",
    "\n",
    "train_x, train_y, test_x, test_y = util.load_eruption()\n",
    "model = LinearRegression()\n",
    "model.fit(train_x, train_y)\n",
    "score = model.score(test_x, test_y)\n",
    "print(\"Weight\", model.w)\n",
    "print(\"Score\", score)"
   ]
  },
  {
   "cell_type": "code",
   "execution_count": null,
   "metadata": {},
   "outputs": [],
   "source": []
  }
 ],
 "metadata": {
  "kernelspec": {
   "display_name": "Python 2",
   "language": "python",
   "name": "python2"
  },
  "language_info": {
   "codemirror_mode": {
    "name": "ipython",
    "version": 2
   },
   "file_extension": ".py",
   "mimetype": "text/x-python",
   "name": "python",
   "nbconvert_exporter": "python",
   "pygments_lexer": "ipython2",
   "version": "2.7.12"
  }
 },
 "nbformat": 4,
 "nbformat_minor": 2
}
