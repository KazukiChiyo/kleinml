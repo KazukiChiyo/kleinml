{
 "cells": [
  {
   "cell_type": "markdown",
   "metadata": {},
   "source": [
    "# Linear Regression\n",
    "Linear regression is a model of the form $p(y|w^T\\textbf{x})=\\mathcal{N}(y|w^T\\textbf{x}, \\sigma^2)$, where *w* is the coefficient that can be used to predict a new datapoint $X_i\\in \\textbf{X}$: $Y_i = X_i^Tw$. We can use **least square estimation** to evaluate the best *w*. Define least square error to be:\n",
    "$$l(\\textbf{X})=\\frac{1}{2}|y-\\textbf{X}w|^2_2 = \\frac{1}{2}(y-\\textbf{X}w)^T(y-\\textbf{X}w).$$\n",
    "Setting the gradient of $l(\\textbf{X})$ with respect to $w$, we get $$\\frac{\\partial l(\\textbf{X})}{\\partial w}=\\textbf{X}^T\\textbf{X}w-\\textbf{X}^Ty=0.$$\n",
    "Then we can solve for *w* and this is called its **ordinary least square (OLS)** solution:\n",
    "$$\\hat w=(\\textbf{X}^T\\textbf{X})^{-1}\\textbf{X}^Ty.$$"
   ]
  },
  {
   "cell_type": "markdown",
   "metadata": {},
   "source": [
    "## Ridge Regression\n",
    "Sometimes $(\\textbf{X}^T\\textbf{X})^{-1}$ is singular and does not have an inverse; in this case we need to add an additional matrix $\\alpha \\textbf{I}$ to $\\textbf{X}^T\\textbf{X}$ so that its non-singular. Then the coefficient can be calculated as:\n",
    "$$\\hat w=(\\textbf{X}^T\\textbf{X}+\\alpha \\textbf{I})^{-1}\\textbf{X}^Ty.$$\n",
    "Ridge regression minimizes the biased square error, with a penalty term $\\alpha|w|^2_2$:\n",
    "$$l(\\textbf{X})=\\frac{1}{2}(|y-\\textbf{X}w|^2_2+\\alpha|w|^2_2).$$\n",
    "The constraint for ridge regresesion is $|w|^2<\\lambda$. We can use $\\alpha$ to impose a maximum value on the magnitude of *w*. When $\\alpha$ is large, the bias term dominates, and *w* gets closer to 0. The relationship of *w* and $\\alpha$ can be shown as follows:"
   ]
  },
  {
   "cell_type": "code",
   "execution_count": 23,
   "metadata": {
    "scrolled": true
   },
   "outputs": [
    {
     "data": {
      "image/png": "[encoded data removed]",
      "text/plain": [
       "<matplotlib.figure.Figure at 0x7f05f8c6cda0>"
      ]
     },
     "metadata": {},
     "output_type": "display_data"
    }
   ],
   "source": [
    "from sklearn.linear_model import Ridge\n",
    "import numpy as np\n",
    "import matplotlib.pyplot as plt\n",
    "\n",
    "X = np.random.randn(10, 5)\n",
    "Y = np.random.randn(10)\n",
    "alphas = np.logspace(-5, 5, 200)\n",
    "coefs = []\n",
    "for a in alphas:\n",
    "    ridge = Ridge(alpha=a, fit_intercept=False)\n",
    "    ridge.fit(X, Y)\n",
    "    coefs.append(ridge.coef_)\n",
    "ax = plt.gca()\n",
    "ax.plot(alphas, coefs)\n",
    "ax.set_xscale('log')\n",
    "plt.xlabel('alpha')\n",
    "plt.ylabel('w')\n",
    "plt.show()"
   ]
  },
  {
   "cell_type": "markdown",
   "metadata": {},
   "source": [
    "In `Ridge.py`, implement ridge regressor. We can insert an \"intercept\" column of 1s at the front of input $\\textbf{X}$ so that the computed $w$ using OLS solution contains intercept vector as its first column. This can be done by the following line of code:\n",
    "```\n",
    "X = np.column_stack([np.ones(len(X)), X])\n",
    "```\n",
    "\n",
    "Use the following test case to test your code:"
   ]
  },
  {
   "cell_type": "code",
   "execution_count": 18,
   "metadata": {
    "scrolled": true
   },
   "outputs": [
    {
     "name": "stdout",
     "output_type": "stream",
     "text": [
      "[  2.66453526e-15   1.00000000e+00]\n"
     ]
    }
   ],
   "source": [
    "from Ridge import *\n",
    "\n",
    "X = np.array([[1], [2], [3], [4], [5]])\n",
    "Y = np.array([1, 2, 3, 4, 5])\n",
    "model = Ridge(alpha=0.0)\n",
    "model.fit(X, Y)\n",
    "print(model.w)"
   ]
  },
  {
   "cell_type": "markdown",
   "metadata": {},
   "source": [
    "When $\\alpha=0$, the penalty term is negligible and the linear model is $y=x$. Verify it by printing out $w$. Note that first term is intercept and second term is slope. Finally, we can use sklearn module to solve ridge regressor:"
   ]
  },
  {
   "cell_type": "code",
   "execution_count": 7,
   "metadata": {},
   "outputs": [
    {
     "name": "stdout",
     "output_type": "stream",
     "text": [
      "0.483488220573\n"
     ]
    }
   ],
   "source": [
    "import numpy as np\n",
    "from sklearn import datasets\n",
    "from sklearn.model_selection import train_test_split\n",
    "from sklearn.linear_model import Ridge\n",
    "\n",
    "# load diabetes dataset\n",
    "def load_diabetes():\n",
    "    data, target = datasets.load_diabetes(return_X_y=True)\n",
    "    x_train, x_test, y_train, y_test = train_test_split(data, target, test_size=.2)\n",
    "    return x_train, y_train, x_test, y_test\n",
    "\n",
    "train_x, train_y, test_x, test_y = load_diabetes()\n",
    "model = Ridge()\n",
    "model.fit(train_x, train_y)\n",
    "score = model.score(test_x, test_y)\n",
    "print(score)"
   ]
  }
 ],
 "metadata": {
  "kernelspec": {
   "display_name": "Python 2",
   "language": "python",
   "name": "python2"
  },
  "language_info": {
   "codemirror_mode": {
    "name": "ipython",
    "version": 3
   },
   "file_extension": ".py",
   "mimetype": "text/x-python",
   "name": "python",
   "nbconvert_exporter": "python",
   "pygments_lexer": "ipython3",
   "version": "3.6.4"
  }
 },
 "nbformat": 4,
 "nbformat_minor": 2
}
